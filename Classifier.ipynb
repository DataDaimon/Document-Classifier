{
 "cells": [
  {
   "cell_type": "markdown",
   "id": "bfc20dc9",
   "metadata": {},
   "source": [
    "# Document Classifier V1"
   ]
  },
  {
   "cell_type": "markdown",
   "id": "6872f02f",
   "metadata": {},
   "source": [
    "### This script iterates through files inside a specified folder and outputs the filename as well as 5 tags to describe the file contents"
   ]
  },
  {
   "cell_type": "code",
   "execution_count": 1,
   "id": "7a9976b6",
   "metadata": {},
   "outputs": [],
   "source": [
    "# import nltk\n",
    "# nltk.download('stopwords')\n",
    "# nltk.download('punkt')"
   ]
  },
  {
   "cell_type": "code",
   "execution_count": 2,
   "id": "011ae027",
   "metadata": {},
   "outputs": [
    {
     "name": "stderr",
     "output_type": "stream",
     "text": [
      "C:\\Users\\Richard\\anaconda3\\lib\\site-packages\\paramiko\\transport.py:219: CryptographyDeprecationWarning: Blowfish has been deprecated\n",
      "  \"class\": algorithms.Blowfish,\n"
     ]
    },
    {
     "name": "stdout",
     "output_type": "stream",
     "text": [
      "File: Financial-Analyst-Course-Curriculum.pdf, Tags: ['financial', 'excel', 'analysis', 'accounting', 'lecture']\n",
      "File: test.pdf, Tags: ['data', 'project', 'nasa', 'consumable', 'stock']\n"
     ]
    }
   ],
   "source": [
    "import os\n",
    "import pdfplumber\n",
    "import docx\n",
    "import pandas as pd\n",
    "import re\n",
    "from nltk.corpus import stopwords\n",
    "from nltk.tokenize import word_tokenize\n",
    "from gensim import corpora, models\n",
    "import nltk\n",
    "\n",
    "def extract_text(file_path):\n",
    "    _, file_extension = os.path.splitext(file_path)\n",
    "    if file_extension.lower() == '.pdf':\n",
    "        return extract_text_from_pdf(file_path)\n",
    "    elif file_extension.lower() in ['.doc', '.docx']:\n",
    "        return extract_text_from_docx(file_path)\n",
    "    elif file_extension.lower() == '.txt':\n",
    "        return extract_text_from_txt(file_path)\n",
    "    elif file_extension.lower() == '.csv':\n",
    "        return extract_text_from_csv(file_path)\n",
    "    return \"\"\n",
    "\n",
    "def extract_text_from_pdf(pdf_path):\n",
    "    with pdfplumber.open(pdf_path) as pdf:\n",
    "        full_text = \" \".join(page.extract_text() or '' for page in pdf.pages)\n",
    "    return full_text.strip()\n",
    "\n",
    "def extract_text_from_docx(docx_path):\n",
    "    doc = docx.Document(docx_path)\n",
    "    full_text = \" \".join(para.text for para in doc.paragraphs if para.text.strip())\n",
    "    return full_text.strip()\n",
    "\n",
    "def extract_text_from_txt(txt_path):\n",
    "    with open(txt_path, 'r', encoding='utf-8') as file:\n",
    "        full_text = file.read()\n",
    "    return full_text.strip()\n",
    "\n",
    "def extract_text_from_csv(csv_path):\n",
    "    df = pd.read_csv(csv_path)\n",
    "    full_text = \" \".join(df.astype(str).sum(axis=1))\n",
    "    return full_text.strip()\n",
    "\n",
    "def preprocess_text(text):\n",
    "    if not text:\n",
    "        return []\n",
    "    stop_words = set(stopwords.words('english'))\n",
    "    words = word_tokenize(re.sub(r'\\W', ' ', text.lower()))\n",
    "    words = [word for word in words if word not in stop_words and len(word) > 1]\n",
    "    return words\n",
    "\n",
    "def perform_topic_modeling(words):\n",
    "    if not words:\n",
    "        return []\n",
    "    num_topics = 1\n",
    "    num_words = 5\n",
    "    dictionary = corpora.Dictionary([words])\n",
    "    corpus = [dictionary.doc2bow(words)]\n",
    "    if not corpus:\n",
    "        return []\n",
    "    lda_model = models.ldamodel.LdaModel(corpus, num_topics=num_topics, id2word=dictionary, passes=15)\n",
    "    topics = lda_model.print_topics(num_words=num_words)\n",
    "    return topics\n",
    "\n",
    "def process_directory(directory_path):\n",
    "    for filename in os.listdir(directory_path):\n",
    "        file_path = os.path.join(directory_path, filename)\n",
    "        if os.path.isfile(file_path):\n",
    "            extracted_text = extract_text(file_path)\n",
    "            words = preprocess_text(extracted_text)\n",
    "            topics = perform_topic_modeling(words)\n",
    "            tags = [word for _, topic in topics for word in re.findall(r'\\\"(.*?)\\\"', topic) if topics]\n",
    "            if tags:\n",
    "                print(f\"File: {filename}, Tags: {tags}\")\n",
    "            else:\n",
    "                print(f\"File: {filename}, No sufficient data to generate tags.\")\n",
    "\n",
    "directory_path = \"testdocuments\"\n",
    "process_directory(directory_path)\n"
   ]
  }
 ],
 "metadata": {
  "kernelspec": {
   "display_name": "Python 3 (ipykernel)",
   "language": "python",
   "name": "python3"
  },
  "language_info": {
   "codemirror_mode": {
    "name": "ipython",
    "version": 3
   },
   "file_extension": ".py",
   "mimetype": "text/x-python",
   "name": "python",
   "nbconvert_exporter": "python",
   "pygments_lexer": "ipython3",
   "version": "3.8.8"
  }
 },
 "nbformat": 4,
 "nbformat_minor": 5
}
