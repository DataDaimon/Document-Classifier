{
 "cells": [
  {
   "cell_type": "markdown",
   "id": "15df2985",
   "metadata": {},
   "source": [
    "# Document Classifier V2"
   ]
  },
  {
   "cell_type": "markdown",
   "id": "5818cc10",
   "metadata": {},
   "source": [
    "### This script iterates through files inside a specified folder and outputs the filename, 5 tags to describe the file, and a simple summary of the file contents"
   ]
  },
  {
   "cell_type": "code",
   "execution_count": null,
   "id": "5d3b9e6a",
   "metadata": {},
   "outputs": [],
   "source": [
    "# import nltk\n",
    "# nltk.download('stopwords')\n",
    "# nltk.download('punkt')"
   ]
  },
  {
   "cell_type": "code",
   "execution_count": 1,
   "id": "011ae027",
   "metadata": {},
   "outputs": [
    {
     "name": "stderr",
     "output_type": "stream",
     "text": [
      "C:\\Users\\Richard\\anaconda3\\lib\\site-packages\\paramiko\\transport.py:219: CryptographyDeprecationWarning: Blowfish has been deprecated\n",
      "  \"class\": algorithms.Blowfish,\n"
     ]
    },
    {
     "name": "stdout",
     "output_type": "stream",
     "text": [
      "File: Financial-Analyst-Course-Curriculum.pdf\n",
      "Tags: ['financial', 'excel', 'analysis', 'accounting', 'lecture', 'financial', 'excel', 'analysis', 'accounting', 'powerpoint']\n",
      "Summary: Course Introduction 12 Modeling - 3-statement Model (2/3) 23 FSA Analyzing P&G s Financials 2 Excel Quick Introduction 13 Modeling - 3-statement Model (3/3) 24 Fundamentals of Financial Analysis 3 Excel Useful Tools 14 Accounting - Introduction 25 Finance 101 The Time Value of Money 4 Excel Best Practices 15 Accounting The Three Statements 26 Finance 101 Discounting Cash Flows 5 Excel - Functions 16 Accounting Core Principles 27 Finance 101 Loan Calculations 6 Excel Financial Functions Accounting What, When, and How much 28 Capital Budgeting The Theory 17 7 Excel Build a P&L from scratch 18 Accounting Practical Exercise 29 Capital Budgeting Case Study 8 Excel Building charts Accounting Cash Flow Statements 30 PowerPoint Quick Introduction 19 9 Excel Intro to Pivot Tables 20 Accounting The Importance of Timing 31 PowerPoint Tips and Tricks 10 Excel Pivot Tables & Slicers 21 Financial Statement Analysis (1/2) 11 Modeling - 3-statement Model (1/3) 22 Financial Statement Analysis (2/2) Financial Statement Excel Financial Modeling Accounting Financial Analysis Finance 101 Capital Budgeting PowerPoint Analysis Welcome! Download all course materials How to download all course materials How to calculate a complete loan schedule --> How to take the course 3 Financial Statement Excel Financial Modeling Accounting Financial Analysis Finance 101 Capital Budgeting PowerPoint Analysis Excel Quick Introduction Lecture Lecture Title Degree of difficulty: 5. Historical Cost vs. Fair Value Accounting Why is it important when a company recognizes revenues and expenses What is the difference between historical and fair value accounting --> Introduction to Accounting 18 Financial Statement Excel Financial Modeling Accounting Financial Analysis Finance 101 Capital Budgeting PowerPoint Analysis Accounting Core Principles Lecture Lecture Title Degree of difficulty: 116.\n",
      "\n",
      "File: test.pdf\n",
      "Tags: ['data', 'nasa', 'project', 'financial', 'stock', 'data', 'project', 'nasa', 'consumable', 'stock']\n",
      "Summary: Through data-driven in- sights and predictive analytics, we aim to contribute to the Overview optimization of resource allocation, thereby bolstering the The primary objective of this data science project is to overalloperationaleffectivenessofthesecriticaltestingfacili- conduct a comprehensive analysis of NASA s consumable ties. Byproactivelypurchasing consumables during periods of historically low prices and Stock market data for consumable suppliers will be ob- adoptingstrategicinventorymanagement,cost-savingoppor- tainedfromrecognizedfinancialdatabases,stockexchanges, tunitieswillbeidentified. Days 22-24: Develop time series forecasting models In conclusion, this data science project holds the poten- forconsumableprices.\n",
      "\n"
     ]
    }
   ],
   "source": [
    "import os\n",
    "import pdfplumber\n",
    "import docx\n",
    "import pandas as pd\n",
    "import re\n",
    "from nltk.corpus import stopwords\n",
    "from nltk.tokenize import word_tokenize, sent_tokenize\n",
    "from gensim import corpora, models\n",
    "from sumy.parsers.plaintext import PlaintextParser\n",
    "from sumy.nlp.tokenizers import Tokenizer\n",
    "from sumy.summarizers.luhn import LuhnSummarizer\n",
    "import nltk\n",
    "\n",
    "def clean_text(text):\n",
    "    \"\"\"Improve the cleaning process to enhance summary quality.\"\"\"\n",
    "    text = re.sub(r'[^\\x00-\\x7F]+', ' ', text)\n",
    "    text = re.sub(r'\\s+', ' ', text)\n",
    "    return text.strip()\n",
    "\n",
    "def extract_text(file_path):\n",
    "    _, file_extension = os.path.splitext(file_path)\n",
    "    if file_extension.lower() == '.pdf':\n",
    "        return extract_text_from_pdf(file_path)\n",
    "    elif file_extension.lower() in ['.doc', '.docx']:\n",
    "        return extract_text_from_docx(file_path)\n",
    "    elif file_extension.lower() == '.txt':\n",
    "        return extract_text_from_txt(file_path)\n",
    "    elif file_extension.lower() == '.csv':\n",
    "        return extract_text_from_csv(file_path)\n",
    "    return \"\"\n",
    "\n",
    "def extract_text_from_pdf(pdf_path):\n",
    "    with pdfplumber.open(pdf_path) as pdf:\n",
    "        full_text = \" \".join(page.extract_text() or '' for page in pdf.pages)\n",
    "    return clean_text(full_text)\n",
    "\n",
    "def extract_text_from_docx(docx_path):\n",
    "    doc = docx.Document(docx_path)\n",
    "    full_text = \" \".join(para.text for para in doc.paragraphs if para.text.strip())\n",
    "    return clean_text(full_text)\n",
    "\n",
    "def extract_text_from_txt(txt_path):\n",
    "    with open(txt_path, 'r', encoding='utf-8') as file:\n",
    "        full_text = file.read()\n",
    "    return clean_text(full_text)\n",
    "\n",
    "def extract_text_from_csv(csv_path):\n",
    "    df = pd.read_csv(csv_path)\n",
    "    full_text = \" \".join(df.astype(str).sum(axis=1))\n",
    "    return clean_text(full_text)\n",
    "\n",
    "def preprocess_text(text):\n",
    "    if not text:\n",
    "        return []\n",
    "    stop_words = set(stopwords.words('english'))\n",
    "    words = word_tokenize(re.sub(r'\\W', ' ', text.lower()))\n",
    "    words = [word for word in words if word not in stop_words and len(word) > 1]\n",
    "    return words\n",
    "\n",
    "def perform_topic_modeling(words):\n",
    "    if not words:\n",
    "        return []\n",
    "    num_topics = 2\n",
    "    num_words = 5\n",
    "    dictionary = corpora.Dictionary([words])\n",
    "    corpus = [dictionary.doc2bow(words)]\n",
    "    if not corpus:\n",
    "        return []\n",
    "    lda_model = models.ldamodel.LdaModel(corpus, num_topics=num_topics, id2word=dictionary, passes=15)\n",
    "    topics = lda_model.print_topics(num_words=num_words)\n",
    "    return topics\n",
    "\n",
    "def summarize_text(text):\n",
    "    \"\"\"Generates a summary of the text using advanced techniques.\"\"\"\n",
    "    parser = PlaintextParser.from_string(text, Tokenizer('english'))\n",
    "    summarizer = LuhnSummarizer()\n",
    "    summary_sentences = summarizer(parser.document, 3)\n",
    "    summary = ' '.join(sentence._text for sentence in summary_sentences)\n",
    "    return summary\n",
    "\n",
    "def process_directory(directory_path):\n",
    "    for filename in os.listdir(directory_path):\n",
    "        file_path = os.path.join(directory_path, filename)\n",
    "        if os.path.isfile(file_path):\n",
    "            extracted_text = extract_text(file_path)\n",
    "            words = preprocess_text(extracted_text)\n",
    "            topics = perform_topic_modeling(words)\n",
    "            tags = [word for _, topic in topics for word in re.findall(r'\\\"(.*?)\\\"', topic) if topics]\n",
    "            summary = summarize_text(extracted_text)\n",
    "            print(f\"File: {filename}\")\n",
    "            if tags:\n",
    "                print(f\"Tags: {tags}\")\n",
    "            else:\n",
    "                print(\"No sufficient data to generate tags.\")\n",
    "            print(f\"Summary: {summary}\\n\")\n",
    "\n",
    "directory_path = \"testdocuments\"\n",
    "process_directory(directory_path)\n"
   ]
  }
 ],
 "metadata": {
  "kernelspec": {
   "display_name": "Python 3 (ipykernel)",
   "language": "python",
   "name": "python3"
  },
  "language_info": {
   "codemirror_mode": {
    "name": "ipython",
    "version": 3
   },
   "file_extension": ".py",
   "mimetype": "text/x-python",
   "name": "python",
   "nbconvert_exporter": "python",
   "pygments_lexer": "ipython3",
   "version": "3.8.8"
  }
 },
 "nbformat": 4,
 "nbformat_minor": 5
}
